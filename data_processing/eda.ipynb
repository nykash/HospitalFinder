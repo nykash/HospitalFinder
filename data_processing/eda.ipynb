{
 "cells": [
  {
   "cell_type": "code",
   "execution_count": 1,
   "metadata": {
    "collapsed": true
   },
   "outputs": [],
   "source": [
    "import pandas as pd\n",
    "import numpy as np"
   ]
  },
  {
   "cell_type": "code",
   "execution_count": 3,
   "outputs": [],
   "source": [
    "df = pd.read_csv(\"hvbp_efficiency_and_cost_reduction.csv\")"
   ],
   "metadata": {
    "collapsed": false,
    "pycharm": {
     "name": "#%%\n"
    }
   }
  },
  {
   "cell_type": "code",
   "execution_count": 8,
   "outputs": [
    {
     "data": {
      "text/plain": "      Fiscal Year  Facility ID  \\\n1062         2022       330208   \n1063         2022       330202   \n1065         2022       330203   \n1066         2022       330204   \n1088         2022       330401   \n...           ...          ...   \n1616         2022       330101   \n1617         2022       330102   \n1618         2022       330350   \n1628         2022       330331   \n1629         2022       330332   \n\n                                       Facility Name                  Address  \\\n1062                    ST JOHN'S RIVERSIDE HOSPITAL       976 NORTH BROADWAY   \n1063                    KINGS COUNTY HOSPITAL CENTER      451 CLARKSON AVENUE   \n1065                                 CROUSE HOSPITAL        736 IRVING AVENUE   \n1066                        BELLEVUE HOSPITAL CENTER         462 FIRST AVENUE   \n1088                  ST CATHERINE OF SIENA HOSPITAL             50 ROUTE 25A   \n...                                              ...                      ...   \n1616                  NEW YORK-PRESBYTERIAN HOSPITAL     525 EAST 68TH STREET   \n1617                          KENMORE MERCY HOSPITAL      2950 ELMWOOD AVENUE   \n1618  SUNY/DOWNSTATE UNIVERSITY HOSPITAL OF BROOKLYN           445 LENOX ROAD   \n1628                              PLAINVIEW HOSPITAL     888 OLD COUNTRY ROAD   \n1629                        CHSLI ST JOSEPH HOSPITAL  4295 HEMPSTEAD TURNPIKE   \n\n           City State  ZIP Code  County Name  MSPB-1 Achievement Threshold  \\\n1062    YONKERS    NY     10701  WESTCHESTER                      0.993095   \n1063   BROOKLYN    NY     11203        KINGS                      0.993095   \n1065   SYRACUSE    NY     13210     ONONDAGA                      0.993095   \n1066   NEW YORK    NY     10016     NEW YORK                      0.993095   \n1088  SMITHTOWN    NY     11787      SUFFOLK                      0.993095   \n...         ...   ...       ...          ...                           ...   \n1616   NEW YORK    NY     10065     NEW YORK                      0.993095   \n1617    KENMORE    NY     14217         ERIE                      0.993095   \n1618   BROOKLYN    NY     11203        KINGS                      0.993095   \n1628  PLAINVIEW    NY     11803       NASSAU                      0.993095   \n1629   BETHPAGE    NY     11714       NASSAU                      0.993095   \n\n      MSPB-1 Benchmark MSPB-1 Baseline Rate MSPB-1 Performance Rate  \\\n1062          0.854866             1.047103                1.016970   \n1063          0.854866             0.980013                1.007665   \n1065          0.854866             0.957679                0.964443   \n1066          0.854866             0.916177                0.960233   \n1088          0.854866             1.051155                1.048986   \n...                ...                  ...                     ...   \n1616          0.854866             0.997912                0.996864   \n1617          0.854866             1.012805                0.994020   \n1618          0.854866             1.009086                1.046737   \n1628          0.854866             1.074523                1.049927   \n1629          0.854866             1.104225                1.151959   \n\n     MSPB-1 Achievement Points MSPB-1 Improvement Points MSPB-1 Measure Score  \n1062             Not Available             Not Available        Not Available  \n1063             Not Available             Not Available        Not Available  \n1065             Not Available             Not Available        Not Available  \n1066             Not Available             Not Available        Not Available  \n1088             Not Available             Not Available        Not Available  \n...                        ...                       ...                  ...  \n1616             Not Available             Not Available        Not Available  \n1617             Not Available             Not Available        Not Available  \n1618             Not Available             Not Available        Not Available  \n1628             Not Available             Not Available        Not Available  \n1629             Not Available             Not Available        Not Available  \n\n[108 rows x 15 columns]",
      "text/html": "<div>\n<style scoped>\n    .dataframe tbody tr th:only-of-type {\n        vertical-align: middle;\n    }\n\n    .dataframe tbody tr th {\n        vertical-align: top;\n    }\n\n    .dataframe thead th {\n        text-align: right;\n    }\n</style>\n<table border=\"1\" class=\"dataframe\">\n  <thead>\n    <tr style=\"text-align: right;\">\n      <th></th>\n      <th>Fiscal Year</th>\n      <th>Facility ID</th>\n      <th>Facility Name</th>\n      <th>Address</th>\n      <th>City</th>\n      <th>State</th>\n      <th>ZIP Code</th>\n      <th>County Name</th>\n      <th>MSPB-1 Achievement Threshold</th>\n      <th>MSPB-1 Benchmark</th>\n      <th>MSPB-1 Baseline Rate</th>\n      <th>MSPB-1 Performance Rate</th>\n      <th>MSPB-1 Achievement Points</th>\n      <th>MSPB-1 Improvement Points</th>\n      <th>MSPB-1 Measure Score</th>\n    </tr>\n  </thead>\n  <tbody>\n    <tr>\n      <th>1062</th>\n      <td>2022</td>\n      <td>330208</td>\n      <td>ST JOHN'S RIVERSIDE HOSPITAL</td>\n      <td>976 NORTH BROADWAY</td>\n      <td>YONKERS</td>\n      <td>NY</td>\n      <td>10701</td>\n      <td>WESTCHESTER</td>\n      <td>0.993095</td>\n      <td>0.854866</td>\n      <td>1.047103</td>\n      <td>1.016970</td>\n      <td>Not Available</td>\n      <td>Not Available</td>\n      <td>Not Available</td>\n    </tr>\n    <tr>\n      <th>1063</th>\n      <td>2022</td>\n      <td>330202</td>\n      <td>KINGS COUNTY HOSPITAL CENTER</td>\n      <td>451 CLARKSON AVENUE</td>\n      <td>BROOKLYN</td>\n      <td>NY</td>\n      <td>11203</td>\n      <td>KINGS</td>\n      <td>0.993095</td>\n      <td>0.854866</td>\n      <td>0.980013</td>\n      <td>1.007665</td>\n      <td>Not Available</td>\n      <td>Not Available</td>\n      <td>Not Available</td>\n    </tr>\n    <tr>\n      <th>1065</th>\n      <td>2022</td>\n      <td>330203</td>\n      <td>CROUSE HOSPITAL</td>\n      <td>736 IRVING AVENUE</td>\n      <td>SYRACUSE</td>\n      <td>NY</td>\n      <td>13210</td>\n      <td>ONONDAGA</td>\n      <td>0.993095</td>\n      <td>0.854866</td>\n      <td>0.957679</td>\n      <td>0.964443</td>\n      <td>Not Available</td>\n      <td>Not Available</td>\n      <td>Not Available</td>\n    </tr>\n    <tr>\n      <th>1066</th>\n      <td>2022</td>\n      <td>330204</td>\n      <td>BELLEVUE HOSPITAL CENTER</td>\n      <td>462 FIRST AVENUE</td>\n      <td>NEW YORK</td>\n      <td>NY</td>\n      <td>10016</td>\n      <td>NEW YORK</td>\n      <td>0.993095</td>\n      <td>0.854866</td>\n      <td>0.916177</td>\n      <td>0.960233</td>\n      <td>Not Available</td>\n      <td>Not Available</td>\n      <td>Not Available</td>\n    </tr>\n    <tr>\n      <th>1088</th>\n      <td>2022</td>\n      <td>330401</td>\n      <td>ST CATHERINE OF SIENA HOSPITAL</td>\n      <td>50 ROUTE 25A</td>\n      <td>SMITHTOWN</td>\n      <td>NY</td>\n      <td>11787</td>\n      <td>SUFFOLK</td>\n      <td>0.993095</td>\n      <td>0.854866</td>\n      <td>1.051155</td>\n      <td>1.048986</td>\n      <td>Not Available</td>\n      <td>Not Available</td>\n      <td>Not Available</td>\n    </tr>\n    <tr>\n      <th>...</th>\n      <td>...</td>\n      <td>...</td>\n      <td>...</td>\n      <td>...</td>\n      <td>...</td>\n      <td>...</td>\n      <td>...</td>\n      <td>...</td>\n      <td>...</td>\n      <td>...</td>\n      <td>...</td>\n      <td>...</td>\n      <td>...</td>\n      <td>...</td>\n      <td>...</td>\n    </tr>\n    <tr>\n      <th>1616</th>\n      <td>2022</td>\n      <td>330101</td>\n      <td>NEW YORK-PRESBYTERIAN HOSPITAL</td>\n      <td>525 EAST 68TH STREET</td>\n      <td>NEW YORK</td>\n      <td>NY</td>\n      <td>10065</td>\n      <td>NEW YORK</td>\n      <td>0.993095</td>\n      <td>0.854866</td>\n      <td>0.997912</td>\n      <td>0.996864</td>\n      <td>Not Available</td>\n      <td>Not Available</td>\n      <td>Not Available</td>\n    </tr>\n    <tr>\n      <th>1617</th>\n      <td>2022</td>\n      <td>330102</td>\n      <td>KENMORE MERCY HOSPITAL</td>\n      <td>2950 ELMWOOD AVENUE</td>\n      <td>KENMORE</td>\n      <td>NY</td>\n      <td>14217</td>\n      <td>ERIE</td>\n      <td>0.993095</td>\n      <td>0.854866</td>\n      <td>1.012805</td>\n      <td>0.994020</td>\n      <td>Not Available</td>\n      <td>Not Available</td>\n      <td>Not Available</td>\n    </tr>\n    <tr>\n      <th>1618</th>\n      <td>2022</td>\n      <td>330350</td>\n      <td>SUNY/DOWNSTATE UNIVERSITY HOSPITAL OF BROOKLYN</td>\n      <td>445 LENOX ROAD</td>\n      <td>BROOKLYN</td>\n      <td>NY</td>\n      <td>11203</td>\n      <td>KINGS</td>\n      <td>0.993095</td>\n      <td>0.854866</td>\n      <td>1.009086</td>\n      <td>1.046737</td>\n      <td>Not Available</td>\n      <td>Not Available</td>\n      <td>Not Available</td>\n    </tr>\n    <tr>\n      <th>1628</th>\n      <td>2022</td>\n      <td>330331</td>\n      <td>PLAINVIEW HOSPITAL</td>\n      <td>888 OLD COUNTRY ROAD</td>\n      <td>PLAINVIEW</td>\n      <td>NY</td>\n      <td>11803</td>\n      <td>NASSAU</td>\n      <td>0.993095</td>\n      <td>0.854866</td>\n      <td>1.074523</td>\n      <td>1.049927</td>\n      <td>Not Available</td>\n      <td>Not Available</td>\n      <td>Not Available</td>\n    </tr>\n    <tr>\n      <th>1629</th>\n      <td>2022</td>\n      <td>330332</td>\n      <td>CHSLI ST JOSEPH HOSPITAL</td>\n      <td>4295 HEMPSTEAD TURNPIKE</td>\n      <td>BETHPAGE</td>\n      <td>NY</td>\n      <td>11714</td>\n      <td>NASSAU</td>\n      <td>0.993095</td>\n      <td>0.854866</td>\n      <td>1.104225</td>\n      <td>1.151959</td>\n      <td>Not Available</td>\n      <td>Not Available</td>\n      <td>Not Available</td>\n    </tr>\n  </tbody>\n</table>\n<p>108 rows × 15 columns</p>\n</div>"
     },
     "execution_count": 8,
     "metadata": {},
     "output_type": "execute_result"
    }
   ],
   "source": [
    "df[df[\"State\"] == \"NY\"]"
   ],
   "metadata": {
    "collapsed": false,
    "pycharm": {
     "name": "#%%\n"
    }
   }
  },
  {
   "cell_type": "code",
   "execution_count": 9,
   "outputs": [],
   "source": [
    "df_hosp = pd.read_csv(\"Hospital_Inpatient_Cost_Transparency__Beginning_2009.csv\")"
   ],
   "metadata": {
    "collapsed": false,
    "pycharm": {
     "name": "#%%\n"
    }
   }
  },
  {
   "cell_type": "code",
   "execution_count": 15,
   "outputs": [],
   "source": [
    "df_hosp = df_hosp[df_hosp.Year == 2016]"
   ],
   "metadata": {
    "collapsed": false,
    "pycharm": {
     "name": "#%%\n"
    }
   }
  },
  {
   "cell_type": "code",
   "execution_count": 18,
   "outputs": [
    {
     "data": {
      "text/plain": "Empty DataFrame\nColumns: [Year, Facility Id, Facility Name, APR DRG Code, APR Severity of Illness Code, APR DRG Description, APR Severity of Illness Description, APR Medical Surgical Code, APR Medical Surgical Description, Discharges, Mean Charge, Median Charge, Mean Cost, Median Cost]\nIndex: []",
      "text/html": "<div>\n<style scoped>\n    .dataframe tbody tr th:only-of-type {\n        vertical-align: middle;\n    }\n\n    .dataframe tbody tr th {\n        vertical-align: top;\n    }\n\n    .dataframe thead th {\n        text-align: right;\n    }\n</style>\n<table border=\"1\" class=\"dataframe\">\n  <thead>\n    <tr style=\"text-align: right;\">\n      <th></th>\n      <th>Year</th>\n      <th>Facility Id</th>\n      <th>Facility Name</th>\n      <th>APR DRG Code</th>\n      <th>APR Severity of Illness Code</th>\n      <th>APR DRG Description</th>\n      <th>APR Severity of Illness Description</th>\n      <th>APR Medical Surgical Code</th>\n      <th>APR Medical Surgical Description</th>\n      <th>Discharges</th>\n      <th>Mean Charge</th>\n      <th>Median Charge</th>\n      <th>Mean Cost</th>\n      <th>Median Cost</th>\n    </tr>\n  </thead>\n  <tbody>\n  </tbody>\n</table>\n</div>"
     },
     "execution_count": 18,
     "metadata": {},
     "output_type": "execute_result"
    }
   ],
   "source": [
    "df_hosp[df_hosp[\"Facility Name\"].str.contains(\"Urgent\")]"
   ],
   "metadata": {
    "collapsed": false,
    "pycharm": {
     "name": "#%%\n"
    }
   }
  },
  {
   "cell_type": "code",
   "execution_count": 19,
   "outputs": [],
   "source": [
    "df_safety = pd.read_csv(\"hospitals.csv\")"
   ],
   "metadata": {
    "collapsed": false,
    "pycharm": {
     "name": "#%%\n"
    }
   }
  },
  {
   "cell_type": "code",
   "execution_count": 23,
   "outputs": [],
   "source": [
    "df_safety = df_safety[df_safety[\"Facility.State\"] == \"NY\"]"
   ],
   "metadata": {
    "collapsed": false,
    "pycharm": {
     "name": "#%%\n"
    }
   }
  },
  {
   "cell_type": "code",
   "execution_count": 26,
   "outputs": [
    {
     "data": {
      "text/plain": "Index(['Facility.Name', 'Facility.City', 'Facility.State', 'Facility.Type',\n       'Rating.Overall', 'Rating.Mortality', 'Rating.Safety',\n       'Rating.Readmission', 'Rating.Experience', 'Rating.Effectiveness',\n       'Rating.Timeliness', 'Rating.Imaging', 'Procedure.Heart Attack.Cost',\n       'Procedure.Heart Attack.Quality', 'Procedure.Heart Attack.Value',\n       'Procedure.Heart Failure.Cost', 'Procedure.Heart Failure.Quality',\n       'Procedure.Heart Failure.Value', 'Procedure.Pneumonia.Cost',\n       'Procedure.Pneumonia.Quality', 'Procedure.Pneumonia.Value',\n       'Procedure.Hip Knee.Cost', 'Procedure.Hip Knee.Quality',\n       'Procedure.Hip Knee.Value'],\n      dtype='object')"
     },
     "execution_count": 26,
     "metadata": {},
     "output_type": "execute_result"
    }
   ],
   "source": [
    "df_safety.columns"
   ],
   "metadata": {
    "collapsed": false,
    "pycharm": {
     "name": "#%%\n"
    }
   }
  },
  {
   "cell_type": "code",
   "execution_count": 32,
   "outputs": [
    {
     "data": {
      "text/plain": "                               Facility.Name Facility.City Facility.State  \\\n2809           Bronx-lebanon Hospital Center         Bronx             NY   \n2830               Montefiore Medical Center         Bronx             NY   \n2836  Lincoln Medical & Mental Health Center         Bronx             NY   \n2857                   Jacobi Medical Center         Bronx             NY   \n2939            North Central Bronx Hospital         Bronx             NY   \n2947                    St Barnabas Hospital         Bronx             NY   \n\n     Facility.Type  Rating.Overall Rating.Mortality Rating.Safety  \\\n2809   Proprietary               2             Same         Above   \n2830       Private               1            Above         Below   \n2836    Government               1             Same         Below   \n2857    Government               1             Same         Below   \n2939    Government               1             None          Same   \n2947       Private               1             Same         Below   \n\n     Rating.Readmission Rating.Experience Rating.Effectiveness  ...  \\\n2809              Below             Below                 Same  ...   \n2830              Below             Below                 Same  ...   \n2836              Below             Below                Below  ...   \n2857              Below             Below                Below  ...   \n2939              Below             Below                Below  ...   \n2947              Below             Below                Below  ...   \n\n     Procedure.Heart Attack.Value Procedure.Heart Failure.Cost  \\\n2809                      Average                        13449   \n2830                      Average                        16293   \n2836                      Average                        15922   \n2857                      Average                        15288   \n2939                      Unknown                            0   \n2947                      Unknown                        15407   \n\n      Procedure.Heart Failure.Quality Procedure.Heart Failure.Value  \\\n2809                          Average                         Lower   \n2830                           Better                       Average   \n2836                          Average                       Average   \n2857                          Average                       Average   \n2939                          Unknown                       Unknown   \n2947                          Average                       Average   \n\n     Procedure.Pneumonia.Cost  Procedure.Pneumonia.Quality  \\\n2809                    15490                      Average   \n2830                    16961                       Better   \n2836                    20947                      Average   \n2857                    17094                      Average   \n2939                    16806                      Average   \n2947                    15866                      Average   \n\n     Procedure.Pneumonia.Value Procedure.Hip Knee.Cost  \\\n2809                     Lower                       0   \n2830                   Average                   24508   \n2836                    Higher                       0   \n2857                   Average                       0   \n2939                   Average                       0   \n2947                   Average                       0   \n\n      Procedure.Hip Knee.Quality Procedure.Hip Knee.Value  \n2809                     Unknown                  Unknown  \n2830                     Average                   Higher  \n2836                     Unknown                  Unknown  \n2857                     Unknown                  Unknown  \n2939                     Unknown                  Unknown  \n2947                     Unknown                  Unknown  \n\n[6 rows x 24 columns]",
      "text/html": "<div>\n<style scoped>\n    .dataframe tbody tr th:only-of-type {\n        vertical-align: middle;\n    }\n\n    .dataframe tbody tr th {\n        vertical-align: top;\n    }\n\n    .dataframe thead th {\n        text-align: right;\n    }\n</style>\n<table border=\"1\" class=\"dataframe\">\n  <thead>\n    <tr style=\"text-align: right;\">\n      <th></th>\n      <th>Facility.Name</th>\n      <th>Facility.City</th>\n      <th>Facility.State</th>\n      <th>Facility.Type</th>\n      <th>Rating.Overall</th>\n      <th>Rating.Mortality</th>\n      <th>Rating.Safety</th>\n      <th>Rating.Readmission</th>\n      <th>Rating.Experience</th>\n      <th>Rating.Effectiveness</th>\n      <th>...</th>\n      <th>Procedure.Heart Attack.Value</th>\n      <th>Procedure.Heart Failure.Cost</th>\n      <th>Procedure.Heart Failure.Quality</th>\n      <th>Procedure.Heart Failure.Value</th>\n      <th>Procedure.Pneumonia.Cost</th>\n      <th>Procedure.Pneumonia.Quality</th>\n      <th>Procedure.Pneumonia.Value</th>\n      <th>Procedure.Hip Knee.Cost</th>\n      <th>Procedure.Hip Knee.Quality</th>\n      <th>Procedure.Hip Knee.Value</th>\n    </tr>\n  </thead>\n  <tbody>\n    <tr>\n      <th>2809</th>\n      <td>Bronx-lebanon Hospital Center</td>\n      <td>Bronx</td>\n      <td>NY</td>\n      <td>Proprietary</td>\n      <td>2</td>\n      <td>Same</td>\n      <td>Above</td>\n      <td>Below</td>\n      <td>Below</td>\n      <td>Same</td>\n      <td>...</td>\n      <td>Average</td>\n      <td>13449</td>\n      <td>Average</td>\n      <td>Lower</td>\n      <td>15490</td>\n      <td>Average</td>\n      <td>Lower</td>\n      <td>0</td>\n      <td>Unknown</td>\n      <td>Unknown</td>\n    </tr>\n    <tr>\n      <th>2830</th>\n      <td>Montefiore Medical Center</td>\n      <td>Bronx</td>\n      <td>NY</td>\n      <td>Private</td>\n      <td>1</td>\n      <td>Above</td>\n      <td>Below</td>\n      <td>Below</td>\n      <td>Below</td>\n      <td>Same</td>\n      <td>...</td>\n      <td>Average</td>\n      <td>16293</td>\n      <td>Better</td>\n      <td>Average</td>\n      <td>16961</td>\n      <td>Better</td>\n      <td>Average</td>\n      <td>24508</td>\n      <td>Average</td>\n      <td>Higher</td>\n    </tr>\n    <tr>\n      <th>2836</th>\n      <td>Lincoln Medical &amp; Mental Health Center</td>\n      <td>Bronx</td>\n      <td>NY</td>\n      <td>Government</td>\n      <td>1</td>\n      <td>Same</td>\n      <td>Below</td>\n      <td>Below</td>\n      <td>Below</td>\n      <td>Below</td>\n      <td>...</td>\n      <td>Average</td>\n      <td>15922</td>\n      <td>Average</td>\n      <td>Average</td>\n      <td>20947</td>\n      <td>Average</td>\n      <td>Higher</td>\n      <td>0</td>\n      <td>Unknown</td>\n      <td>Unknown</td>\n    </tr>\n    <tr>\n      <th>2857</th>\n      <td>Jacobi Medical Center</td>\n      <td>Bronx</td>\n      <td>NY</td>\n      <td>Government</td>\n      <td>1</td>\n      <td>Same</td>\n      <td>Below</td>\n      <td>Below</td>\n      <td>Below</td>\n      <td>Below</td>\n      <td>...</td>\n      <td>Average</td>\n      <td>15288</td>\n      <td>Average</td>\n      <td>Average</td>\n      <td>17094</td>\n      <td>Average</td>\n      <td>Average</td>\n      <td>0</td>\n      <td>Unknown</td>\n      <td>Unknown</td>\n    </tr>\n    <tr>\n      <th>2939</th>\n      <td>North Central Bronx Hospital</td>\n      <td>Bronx</td>\n      <td>NY</td>\n      <td>Government</td>\n      <td>1</td>\n      <td>None</td>\n      <td>Same</td>\n      <td>Below</td>\n      <td>Below</td>\n      <td>Below</td>\n      <td>...</td>\n      <td>Unknown</td>\n      <td>0</td>\n      <td>Unknown</td>\n      <td>Unknown</td>\n      <td>16806</td>\n      <td>Average</td>\n      <td>Average</td>\n      <td>0</td>\n      <td>Unknown</td>\n      <td>Unknown</td>\n    </tr>\n    <tr>\n      <th>2947</th>\n      <td>St Barnabas Hospital</td>\n      <td>Bronx</td>\n      <td>NY</td>\n      <td>Private</td>\n      <td>1</td>\n      <td>Same</td>\n      <td>Below</td>\n      <td>Below</td>\n      <td>Below</td>\n      <td>Below</td>\n      <td>...</td>\n      <td>Unknown</td>\n      <td>15407</td>\n      <td>Average</td>\n      <td>Average</td>\n      <td>15866</td>\n      <td>Average</td>\n      <td>Average</td>\n      <td>0</td>\n      <td>Unknown</td>\n      <td>Unknown</td>\n    </tr>\n  </tbody>\n</table>\n<p>6 rows × 24 columns</p>\n</div>"
     },
     "execution_count": 32,
     "metadata": {},
     "output_type": "execute_result"
    }
   ],
   "source": [
    "df_safety[df_safety[\"Facility.City\"].str.contains(\"Bronx\")]"
   ],
   "metadata": {
    "collapsed": false,
    "pycharm": {
     "name": "#%%\n"
    }
   }
  },
  {
   "cell_type": "code",
   "execution_count": 33,
   "outputs": [
    {
     "data": {
      "text/plain": "        Year  Facility Id                      Facility Name  APR DRG Code  \\\n0       2016            4           Albany Memorial Hospital           194   \n1       2016            4           Albany Memorial Hospital           194   \n2       2016            4           Albany Memorial Hospital           194   \n3       2016            4           Albany Memorial Hospital           194   \n4       2016            4           Albany Memorial Hospital           196   \n...      ...          ...                                ...           ...   \n114602  2016         1153  Wyoming County Community Hospital           861   \n114603  2016         1153  Wyoming County Community Hospital           930   \n114604  2016         1153  Wyoming County Community Hospital           951   \n114605  2016         1153  Wyoming County Community Hospital           951   \n114606  2016         1153  Wyoming County Community Hospital           952   \n\n        APR Severity of Illness Code  \\\n0                                  1   \n1                                  2   \n2                                  3   \n3                                  4   \n4                                  4   \n...                              ...   \n114602                             3   \n114603                             2   \n114604                             2   \n114605                             3   \n114606                             2   \n\n                                      APR DRG Description  \\\n0                                           Heart Failure   \n1                                           Heart Failure   \n2                                           Heart Failure   \n3                                           Heart Failure   \n4                                          Cardiac Arrest   \n...                                                   ...   \n114602  Signs, Symptoms & Other Factors Influencing He...   \n114603     Multiple Significant Trauma W/O O.R. Procedure   \n114604  Moderately Extensive Procedure Unrelated To Pr...   \n114605  Moderately Extensive Procedure Unrelated To Pr...   \n114606  Nonextensive Procedure Unrelated To Principal ...   \n\n       APR Severity of Illness Description APR Medical Surgical Code  \\\n0                                    Minor                         M   \n1                                 Moderate                         M   \n2                                    Major                         M   \n3                                  Extreme                         M   \n4                                  Extreme                         M   \n...                                    ...                       ...   \n114602                               Major                         M   \n114603                            Moderate                         M   \n114604                            Moderate                         P   \n114605                               Major                         P   \n114606                            Moderate                         P   \n\n       APR Medical Surgical Description  Discharges  Mean Charge  \\\n0                               Medical           2      8375.41   \n1                               Medical          40     14029.82   \n2                               Medical          70     23921.77   \n3                               Medical          12     51260.45   \n4                               Medical           1     25357.84   \n...                                 ...         ...          ...   \n114602                          Medical           2      7349.57   \n114603                          Medical           1      6184.36   \n114604                         Surgical           5     16549.93   \n114605                         Surgical           3     16528.56   \n114606                         Surgical           1     12680.29   \n\n        Median Charge  Mean Cost  Median Cost  \n0             8375.41    3585.05      3585.05  \n1            12176.95    6182.67      5253.15  \n2            20229.81   11149.49      9068.10  \n3            35210.82   26081.70     15230.62  \n4            25357.84    7791.75      7791.75  \n...               ...        ...          ...  \n114602        7349.57    5332.44      5332.44  \n114603        6184.36    3881.19      3881.19  \n114604       13122.91   13220.99      8788.79  \n114605       12305.65   13974.84     11093.58  \n114606       12680.29    9787.03      9787.03  \n\n[114602 rows x 14 columns]",
      "text/html": "<div>\n<style scoped>\n    .dataframe tbody tr th:only-of-type {\n        vertical-align: middle;\n    }\n\n    .dataframe tbody tr th {\n        vertical-align: top;\n    }\n\n    .dataframe thead th {\n        text-align: right;\n    }\n</style>\n<table border=\"1\" class=\"dataframe\">\n  <thead>\n    <tr style=\"text-align: right;\">\n      <th></th>\n      <th>Year</th>\n      <th>Facility Id</th>\n      <th>Facility Name</th>\n      <th>APR DRG Code</th>\n      <th>APR Severity of Illness Code</th>\n      <th>APR DRG Description</th>\n      <th>APR Severity of Illness Description</th>\n      <th>APR Medical Surgical Code</th>\n      <th>APR Medical Surgical Description</th>\n      <th>Discharges</th>\n      <th>Mean Charge</th>\n      <th>Median Charge</th>\n      <th>Mean Cost</th>\n      <th>Median Cost</th>\n    </tr>\n  </thead>\n  <tbody>\n    <tr>\n      <th>0</th>\n      <td>2016</td>\n      <td>4</td>\n      <td>Albany Memorial Hospital</td>\n      <td>194</td>\n      <td>1</td>\n      <td>Heart Failure</td>\n      <td>Minor</td>\n      <td>M</td>\n      <td>Medical</td>\n      <td>2</td>\n      <td>8375.41</td>\n      <td>8375.41</td>\n      <td>3585.05</td>\n      <td>3585.05</td>\n    </tr>\n    <tr>\n      <th>1</th>\n      <td>2016</td>\n      <td>4</td>\n      <td>Albany Memorial Hospital</td>\n      <td>194</td>\n      <td>2</td>\n      <td>Heart Failure</td>\n      <td>Moderate</td>\n      <td>M</td>\n      <td>Medical</td>\n      <td>40</td>\n      <td>14029.82</td>\n      <td>12176.95</td>\n      <td>6182.67</td>\n      <td>5253.15</td>\n    </tr>\n    <tr>\n      <th>2</th>\n      <td>2016</td>\n      <td>4</td>\n      <td>Albany Memorial Hospital</td>\n      <td>194</td>\n      <td>3</td>\n      <td>Heart Failure</td>\n      <td>Major</td>\n      <td>M</td>\n      <td>Medical</td>\n      <td>70</td>\n      <td>23921.77</td>\n      <td>20229.81</td>\n      <td>11149.49</td>\n      <td>9068.10</td>\n    </tr>\n    <tr>\n      <th>3</th>\n      <td>2016</td>\n      <td>4</td>\n      <td>Albany Memorial Hospital</td>\n      <td>194</td>\n      <td>4</td>\n      <td>Heart Failure</td>\n      <td>Extreme</td>\n      <td>M</td>\n      <td>Medical</td>\n      <td>12</td>\n      <td>51260.45</td>\n      <td>35210.82</td>\n      <td>26081.70</td>\n      <td>15230.62</td>\n    </tr>\n    <tr>\n      <th>4</th>\n      <td>2016</td>\n      <td>4</td>\n      <td>Albany Memorial Hospital</td>\n      <td>196</td>\n      <td>4</td>\n      <td>Cardiac Arrest</td>\n      <td>Extreme</td>\n      <td>M</td>\n      <td>Medical</td>\n      <td>1</td>\n      <td>25357.84</td>\n      <td>25357.84</td>\n      <td>7791.75</td>\n      <td>7791.75</td>\n    </tr>\n    <tr>\n      <th>...</th>\n      <td>...</td>\n      <td>...</td>\n      <td>...</td>\n      <td>...</td>\n      <td>...</td>\n      <td>...</td>\n      <td>...</td>\n      <td>...</td>\n      <td>...</td>\n      <td>...</td>\n      <td>...</td>\n      <td>...</td>\n      <td>...</td>\n      <td>...</td>\n    </tr>\n    <tr>\n      <th>114602</th>\n      <td>2016</td>\n      <td>1153</td>\n      <td>Wyoming County Community Hospital</td>\n      <td>861</td>\n      <td>3</td>\n      <td>Signs, Symptoms &amp; Other Factors Influencing He...</td>\n      <td>Major</td>\n      <td>M</td>\n      <td>Medical</td>\n      <td>2</td>\n      <td>7349.57</td>\n      <td>7349.57</td>\n      <td>5332.44</td>\n      <td>5332.44</td>\n    </tr>\n    <tr>\n      <th>114603</th>\n      <td>2016</td>\n      <td>1153</td>\n      <td>Wyoming County Community Hospital</td>\n      <td>930</td>\n      <td>2</td>\n      <td>Multiple Significant Trauma W/O O.R. Procedure</td>\n      <td>Moderate</td>\n      <td>M</td>\n      <td>Medical</td>\n      <td>1</td>\n      <td>6184.36</td>\n      <td>6184.36</td>\n      <td>3881.19</td>\n      <td>3881.19</td>\n    </tr>\n    <tr>\n      <th>114604</th>\n      <td>2016</td>\n      <td>1153</td>\n      <td>Wyoming County Community Hospital</td>\n      <td>951</td>\n      <td>2</td>\n      <td>Moderately Extensive Procedure Unrelated To Pr...</td>\n      <td>Moderate</td>\n      <td>P</td>\n      <td>Surgical</td>\n      <td>5</td>\n      <td>16549.93</td>\n      <td>13122.91</td>\n      <td>13220.99</td>\n      <td>8788.79</td>\n    </tr>\n    <tr>\n      <th>114605</th>\n      <td>2016</td>\n      <td>1153</td>\n      <td>Wyoming County Community Hospital</td>\n      <td>951</td>\n      <td>3</td>\n      <td>Moderately Extensive Procedure Unrelated To Pr...</td>\n      <td>Major</td>\n      <td>P</td>\n      <td>Surgical</td>\n      <td>3</td>\n      <td>16528.56</td>\n      <td>12305.65</td>\n      <td>13974.84</td>\n      <td>11093.58</td>\n    </tr>\n    <tr>\n      <th>114606</th>\n      <td>2016</td>\n      <td>1153</td>\n      <td>Wyoming County Community Hospital</td>\n      <td>952</td>\n      <td>2</td>\n      <td>Nonextensive Procedure Unrelated To Principal ...</td>\n      <td>Moderate</td>\n      <td>P</td>\n      <td>Surgical</td>\n      <td>1</td>\n      <td>12680.29</td>\n      <td>12680.29</td>\n      <td>9787.03</td>\n      <td>9787.03</td>\n    </tr>\n  </tbody>\n</table>\n<p>114602 rows × 14 columns</p>\n</div>"
     },
     "execution_count": 33,
     "metadata": {},
     "output_type": "execute_result"
    }
   ],
   "source": [
    "df_hosp"
   ],
   "metadata": {
    "collapsed": false,
    "pycharm": {
     "name": "#%%\n"
    }
   }
  },
  {
   "cell_type": "code",
   "execution_count": null,
   "outputs": [],
   "source": [],
   "metadata": {
    "collapsed": false,
    "pycharm": {
     "name": "#%%\n"
    }
   }
  }
 ],
 "metadata": {
  "kernelspec": {
   "display_name": "Python 3",
   "language": "python",
   "name": "python3"
  },
  "language_info": {
   "codemirror_mode": {
    "name": "ipython",
    "version": 2
   },
   "file_extension": ".py",
   "mimetype": "text/x-python",
   "name": "python",
   "nbconvert_exporter": "python",
   "pygments_lexer": "ipython2",
   "version": "2.7.6"
  }
 },
 "nbformat": 4,
 "nbformat_minor": 0
}